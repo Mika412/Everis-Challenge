{
 "cells": [
  {
   "cell_type": "code",
   "execution_count": 37,
   "metadata": {},
   "outputs": [],
   "source": [
    "import os, sys, random\n",
    "import xml.etree.ElementTree as ET\n",
    "from glob import glob\n",
    "import pandas as pd\n",
    "from shutil import copyfile"
   ]
  },
  {
   "cell_type": "markdown",
   "metadata": {},
   "source": [
    "## Convert annotation to proper form"
   ]
  },
  {
   "cell_type": "code",
   "execution_count": 2,
   "metadata": {},
   "outputs": [],
   "source": [
    "annotations = glob('train/*.xml')\n",
    "data = pd.DataFrame()\n",
    "df = []\n",
    "cnt = 0\n",
    "for file in annotations:\n",
    "    prev_filename = file.split('\\\\')[-1].split('.')[0] + '.jpg'\n",
    "    #filename = str(cnt) + '.jpg'\n",
    "    #print(prev_filename)\n",
    "    row = []\n",
    "    parsedXML = ET.parse(file)\n",
    "    for node in parsedXML.getroot().iter('object'):\n",
    "        class_type = node.find('name').text\n",
    "        xmin = int(node.find('bndbox/xmin').text)\n",
    "        xmax = int(node.find('bndbox/xmax').text)\n",
    "        ymin = int(node.find('bndbox/ymin').text)\n",
    "        ymax = int(node.find('bndbox/ymax').text)\n",
    "        \n",
    "        \n",
    "        row = [prev_filename + ',' + str(xmin) + ',' + str(ymin) + ',' + str(xmax) + ',' + str(ymax) + ',' + class_type]\n",
    "        df.append(row)\n",
    "        cnt += 1\n",
    "        \n",
    "\n",
    "data = pd.DataFrame(df, columns=['format'])\n",
    "\n",
    "data.to_csv('annotate.txt', header=None, index=None, sep=' ')"
   ]
  },
  {
   "cell_type": "markdown",
   "metadata": {},
   "source": [
    "## Run Training (Skip if you want to use a pre-trained model)"
   ]
  },
  {
   "cell_type": "code",
   "execution_count": 7,
   "metadata": {
    "scrolled": false
   },
   "outputs": [
    {
     "name": "stdout",
     "output_type": "stream",
     "text": [
      "/usr/bin/sh: 1: Syntax error: \"(\" unexpected\r\n"
     ]
    }
   ],
   "source": [
    "import os \n",
    "!python keras-frcnn/train_frcnn.py -o simple -p annotate.txt --num_epochs 500 --num_samples 1000 --hf True --vf True --rot True -n 32"
   ]
  },
  {
   "cell_type": "code",
   "execution_count": 27,
   "metadata": {},
   "outputs": [
    {
     "name": "stdout",
     "output_type": "stream",
     "text": [
      "\n",
      "7-Zip [64] 16.02 : Copyright (c) 1999-2016 Igor Pavlov : 2016-05-21\n",
      "p7zip Version 16.02 (locale=pt_PT.UTF-8,Utf16=on,HugeFiles=on,64 bits,8 CPUs Intel(R) Core(TM) i7-7700HQ CPU @ 2.80GHz (906E9),ASM,AES-NI)\n",
      "\n",
      "Scanning the drive for archives:\n",
      "  0M Sca        1 file, 103472388 bytes (99 MiB)\n",
      "\n",
      "Extracting archive: model_frcnn.7z\n",
      "--\n",
      "Path = model_frcnn.7z\n",
      "Type = 7z\n",
      "Physical Size = 103472388\n",
      "Headers Size = 158\n",
      "Method = LZMA:23\n",
      "Solid = -\n",
      "Blocks = 1\n",
      "\n",
      "      3% - model_frcnn.hdf                        7% - model_frcnn.hdf                       11% - model_frcnn.hdf                       14% - model_frcnn.hdf                       18% - model_frcnn.hdf                       22% - model_frcnn.hdf                       25% - model_frcnn.hdf                       29% - model_frcnn.hdf                       32% - model_frcnn.hdf                       36% - model_frcnn.hdf                       40% - model_frcnn.hdf                       43% - model_frcnn.hdf                       47% - model_frcnn.hdf                       51% - model_frcnn.hdf                       55% - model_frcnn.hdf                       58% - model_frcnn.hdf                       62% - model_frcnn.hdf                       66% - model_frcnn.hdf                       69% - model_frcnn.hdf                       73% - model_frcnn.hdf                       77% - model_frcnn.hdf                       81% - model_frcnn.hdf                       84% - model_frcnn.hdf                       88% - model_frcnn.hdf                       92% - model_frcnn.hdf                       95% - model_frcnn.hdf                       99% - model_frcnn.hdf                      Everything is Ok\n",
      "\n",
      "Size:       113893120\n",
      "Compressed: 103472388\n"
     ]
    }
   ],
   "source": [
    "!7z e model_frcnn.7z"
   ]
  },
  {
   "cell_type": "code",
   "execution_count": null,
   "metadata": {
    "scrolled": false
   },
   "outputs": [
    {
     "name": "stdout",
     "output_type": "stream",
     "text": [
      "Using TensorFlow backend.\n",
      "{'orange': 0, 'apple': 1, 'banana': 2, 'bg': 3}\n",
      "Loading weights from model_frcnn.hdf5\n",
      "2019-06-04 22:44:24.578161: I tensorflow/core/platform/cpu_feature_guard.cc:141] Your CPU supports instructions that this TensorFlow binary was not compiled to use: SSE4.1 SSE4.2 AVX AVX2 FMA\n",
      "2019-06-04 22:44:24.900427: E tensorflow/stream_executor/cuda/cuda_driver.cc:397] failed call to cuInit: CUDA_ERROR_NO_DEVICE\n",
      "2019-06-04 22:44:24.900500: I tensorflow/stream_executor/cuda/cuda_diagnostics.cc:150] kernel driver does not appear to be running on this host (mykha-GE62-7RE): /proc/driver/nvidia/version does not exist\n"
     ]
    }
   ],
   "source": [
    "!python keras-frcnn/test_frcnn.py -p test"
   ]
  },
  {
   "cell_type": "code",
   "execution_count": null,
   "metadata": {},
   "outputs": [],
   "source": []
  }
 ],
 "metadata": {
  "kernelspec": {
   "display_name": "Python 3",
   "language": "python",
   "name": "python3"
  },
  "language_info": {
   "codemirror_mode": {
    "name": "ipython",
    "version": 3
   },
   "file_extension": ".py",
   "mimetype": "text/x-python",
   "name": "python",
   "nbconvert_exporter": "python",
   "pygments_lexer": "ipython3",
   "version": "3.7.3"
  }
 },
 "nbformat": 4,
 "nbformat_minor": 2
}
