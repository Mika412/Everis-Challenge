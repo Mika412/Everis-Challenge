{
 "cells": [
  {
   "cell_type": "markdown",
   "metadata": {},
   "source": [
    "## Import dependencies"
   ]
  },
  {
   "cell_type": "code",
   "execution_count": 37,
   "metadata": {},
   "outputs": [],
   "source": [
    "import os, sys, random\n",
    "import xml.etree.ElementTree as ET\n",
    "from glob import glob\n",
    "import pandas as pd\n",
    "from shutil import copyfile"
   ]
  },
  {
   "cell_type": "markdown",
   "metadata": {},
   "source": [
    "## Convert annotation to proper form (You can skip this step)"
   ]
  },
  {
   "cell_type": "code",
   "execution_count": 2,
   "metadata": {},
   "outputs": [],
   "source": [
    "annotations = glob('train/*.xml')\n",
    "data = pd.DataFrame()\n",
    "df = []\n",
    "cnt = 0\n",
    "for file in annotations:\n",
    "    prev_filename = file.split('\\\\')[-1].split('.')[0] + '.jpg'\n",
    "    #filename = str(cnt) + '.jpg'\n",
    "    #print(prev_filename)\n",
    "    row = []\n",
    "    parsedXML = ET.parse(file)\n",
    "    for node in parsedXML.getroot().iter('object'):\n",
    "        class_type = node.find('name').text\n",
    "        xmin = int(node.find('bndbox/xmin').text)\n",
    "        xmax = int(node.find('bndbox/xmax').text)\n",
    "        ymin = int(node.find('bndbox/ymin').text)\n",
    "        ymax = int(node.find('bndbox/ymax').text)\n",
    "        \n",
    "        \n",
    "        row = [prev_filename + ',' + str(xmin) + ',' + str(ymin) + ',' + str(xmax) + ',' + str(ymax) + ',' + class_type]\n",
    "        df.append(row)\n",
    "        cnt += 1\n",
    "        \n",
    "\n",
    "data = pd.DataFrame(df, columns=['format'])\n",
    "\n",
    "data.to_csv('annotate.txt', header=None, index=None, sep=' ')"
   ]
  },
  {
   "cell_type": "markdown",
   "metadata": {},
   "source": [
    "## Run Training (Skip if you want to use a pre-trained model)"
   ]
  },
  {
   "cell_type": "code",
   "execution_count": 7,
   "metadata": {
    "scrolled": false
   },
   "outputs": [
    {
     "name": "stdout",
     "output_type": "stream",
     "text": [
      "/usr/bin/sh: 1: Syntax error: \"(\" unexpected\r\n"
     ]
    }
   ],
   "source": [
    "import os \n",
    "!python keras-frcnn/train_frcnn.py -o simple -p annotate.txt --num_epochs 500 --num_samples 1000 --hf True --vf True --rot True -n 32"
   ]
  },
  {
   "cell_type": "markdown",
   "metadata": {},
   "source": [
    "### Extract the compressed model"
   ]
  },
  {
   "cell_type": "code",
   "execution_count": 27,
   "metadata": {},
   "outputs": [
    {
     "name": "stdout",
     "output_type": "stream",
     "text": [
      "\n",
      "7-Zip [64] 16.02 : Copyright (c) 1999-2016 Igor Pavlov : 2016-05-21\n",
      "p7zip Version 16.02 (locale=pt_PT.UTF-8,Utf16=on,HugeFiles=on,64 bits,8 CPUs Intel(R) Core(TM) i7-7700HQ CPU @ 2.80GHz (906E9),ASM,AES-NI)\n",
      "\n",
      "Scanning the drive for archives:\n",
      "  0M Sca        1 file, 103472388 bytes (99 MiB)\n",
      "\n",
      "Extracting archive: model_frcnn.7z\n",
      "--\n",
      "Path = model_frcnn.7z\n",
      "Type = 7z\n",
      "Physical Size = 103472388\n",
      "Headers Size = 158\n",
      "Method = LZMA:23\n",
      "Solid = -\n",
      "Blocks = 1\n",
      "\n",
      "      3% - model_frcnn.hdf                        7% - model_frcnn.hdf                       11% - model_frcnn.hdf                       14% - model_frcnn.hdf                       18% - model_frcnn.hdf                       22% - model_frcnn.hdf                       25% - model_frcnn.hdf                       29% - model_frcnn.hdf                       32% - model_frcnn.hdf                       36% - model_frcnn.hdf                       40% - model_frcnn.hdf                       43% - model_frcnn.hdf                       47% - model_frcnn.hdf                       51% - model_frcnn.hdf                       55% - model_frcnn.hdf                       58% - model_frcnn.hdf                       62% - model_frcnn.hdf                       66% - model_frcnn.hdf                       69% - model_frcnn.hdf                       73% - model_frcnn.hdf                       77% - model_frcnn.hdf                       81% - model_frcnn.hdf                       84% - model_frcnn.hdf                       88% - model_frcnn.hdf                       92% - model_frcnn.hdf                       95% - model_frcnn.hdf                       99% - model_frcnn.hdf                      Everything is Ok\n",
      "\n",
      "Size:       113893120\n",
      "Compressed: 103472388\n"
     ]
    }
   ],
   "source": [
    "!7z e model_frcnn.7z"
   ]
  },
  {
   "cell_type": "markdown",
   "metadata": {},
   "source": [
    "## Test model\n",
    "\n",
    "It will write the resulting images into results_imgs folder"
   ]
  },
  {
   "cell_type": "code",
   "execution_count": 51,
   "metadata": {
    "scrolled": true
   },
   "outputs": [
    {
     "name": "stdout",
     "output_type": "stream",
     "text": [
      "Using TensorFlow backend.\n",
      "{'orange': 0, 'apple': 1, 'banana': 2, 'bg': 3}\n",
      "Loading weights from model_frcnn.hdf5\n",
      "2019-06-04 22:47:34.103255: I tensorflow/core/platform/cpu_feature_guard.cc:141] Your CPU supports instructions that this TensorFlow binary was not compiled to use: SSE4.1 SSE4.2 AVX AVX2 FMA\n",
      "2019-06-04 22:47:34.412211: E tensorflow/stream_executor/cuda/cuda_driver.cc:397] failed call to cuInit: CUDA_ERROR_NO_DEVICE\n",
      "2019-06-04 22:47:34.412257: I tensorflow/stream_executor/cuda/cuda_diagnostics.cc:150] kernel driver does not appear to be running on this host (mykha-GE62-7RE): /proc/driver/nvidia/version does not exist\n",
      "apple_77.jpg\n",
      "Elapsed time = 12.33981990814209\n",
      "[('apple', 96.06723189353943), ('apple', 94.71863508224487), ('apple', 92.73517727851868), ('apple', 91.26016497612), ('apple', 89.77797627449036), ('apple', 88.08427453041077), ('apple', 80.71891069412231)]\n",
      "apple_78.jpg\n",
      "Elapsed time = 11.276010274887085\n",
      "[('apple', 89.63931202888489)]\n",
      "apple_79.jpg\n",
      "libpng warning: iCCP: known incorrect sRGB profile\n",
      "Elapsed time = 11.017627477645874\n",
      "[('apple', 99.91063475608826), ('apple', 88.17561864852905)]\n",
      "apple_80.jpg\n",
      "Elapsed time = 11.850239515304565\n",
      "[('apple', 99.80736970901489), ('apple', 85.1876437664032)]\n",
      "apple_81.jpg\n",
      "Elapsed time = 11.390779972076416\n",
      "[('apple', 99.70471262931824), ('apple', 91.87102317810059), ('apple', 90.09549021720886)]\n",
      "apple_82.jpg\n",
      "Elapsed time = 11.216923952102661\n",
      "[('apple', 99.6092140674591), ('apple', 88.68018388748169)]\n",
      "apple_83.jpg\n",
      "Elapsed time = 11.539762020111084\n",
      "[('apple', 98.66166114807129), ('apple', 96.80320024490356), ('apple', 93.35020184516907), ('apple', 89.86891508102417)]\n",
      "apple_84.jpg\n",
      "Elapsed time = 13.21791410446167\n",
      "[('apple', 98.12976121902466), ('apple', 98.080575466156), ('apple', 96.68638110160828), ('apple', 93.94233226776123), ('apple', 88.1464421749115)]\n",
      "apple_85.jpg\n",
      "Elapsed time = 12.147538423538208\n",
      "[('apple', 95.56849598884583), ('apple', 87.10121512413025), ('apple', 83.00326466560364), ('apple', 82.89555311203003)]\n",
      "apple_86.jpg\n",
      "Elapsed time = 12.67099905014038\n",
      "[('apple', 94.52699422836304), ('apple', 93.50481629371643), ('apple', 89.32223320007324), ('apple', 80.43823838233948)]\n",
      "apple_87.jpg\n",
      "Elapsed time = 11.659049272537231\n",
      "[('apple', 99.90841150283813), ('apple', 84.19937491416931), ('apple', 81.57756328582764)]\n",
      "apple_88.jpg\n",
      "Elapsed time = 12.090283155441284\n",
      "[('apple', 99.50828552246094), ('apple', 89.12096619606018), ('apple', 82.86668658256531), ('apple', 82.31434226036072)]\n",
      "apple_89.jpg\n",
      "Elapsed time = 12.45950698852539\n",
      "[('apple', 99.89985823631287), ('apple', 80.38077354431152)]\n",
      "apple_90.jpg\n",
      "Elapsed time = 12.559653282165527\n",
      "[('apple', 98.44563603401184), ('apple', 91.38010740280151), ('apple', 82.20016956329346)]\n",
      "apple_91.jpg\n",
      "Elapsed time = 13.269900560379028\n",
      "[('apple', 97.97959327697754), ('apple', 96.55143618583679), ('apple', 88.93694281578064), ('apple', 86.99560761451721), ('apple', 85.27915477752686)]\n",
      "apple_92.jpg\n",
      "Elapsed time = 12.2309250831604\n",
      "[('apple', 99.81071949005127)]\n",
      "apple_93.jpg\n",
      "Elapsed time = 13.018271684646606\n",
      "[('apple', 99.93540644645691)]\n",
      "apple_94.jpg\n",
      "Elapsed time = 13.400132179260254\n",
      "[('apple', 96.70295119285583), ('apple', 95.5392599105835), ('apple', 94.83484029769897), ('apple', 93.84570717811584), ('apple', 93.77272725105286), ('apple', 92.28354096412659), ('apple', 91.96934103965759), ('apple', 86.05121374130249), ('apple', 85.66994071006775), ('apple', 83.14580917358398), ('apple', 82.82269239425659)]\n",
      "apple_95.jpg\n",
      "Elapsed time = 13.541750192642212\n",
      "[('apple', 98.71253371238708), ('apple', 84.13615226745605), ('apple', 82.66491889953613), ('orange', 93.92065405845642), ('orange', 84.81752276420593)]\n",
      "banana_77.jpg\n",
      "Elapsed time = 12.690348863601685\n",
      "[('banana', 98.83025288581848), ('banana', 92.86244511604309), ('banana', 89.85810279846191), ('banana', 88.66826295852661), ('banana', 87.13301420211792), ('banana', 84.30579900741577)]\n",
      "banana_78.jpg\n",
      "Elapsed time = 12.545098304748535\n",
      "[('banana', 97.87286520004272), ('banana', 87.90424466133118), ('banana', 80.08816838264465)]\n",
      "banana_79.jpg\n",
      "Elapsed time = 13.975858926773071\n",
      "[('banana', 99.80363249778748), ('banana', 93.45715641975403)]\n",
      "banana_80.jpg\n",
      "Elapsed time = 12.507716178894043\n",
      "[('banana', 88.20282220840454)]\n",
      "banana_81.jpg\n",
      "^C\n",
      "Traceback (most recent call last):\n",
      "  File \"keras-frcnn/test_frcnn.py\", line 195, in <module>\n",
      "    [P_cls, P_regr] = model_classifier_only.predict([F, ROIs])\n",
      "  File \"/home/mykha/.conda/envs/deep/lib/python3.6/site-packages/keras/engine/training.py\", line 1167, in predict\n",
      "    steps=steps)\n",
      "  File \"/home/mykha/.conda/envs/deep/lib/python3.6/site-packages/keras/engine/training_arrays.py\", line 294, in predict_loop\n",
      "    batch_outs = f(ins_batch)\n",
      "  File \"/home/mykha/.conda/envs/deep/lib/python3.6/site-packages/keras/backend/tensorflow_backend.py\", line 2666, in __call__\n",
      "    return self._call(inputs)\n",
      "  File \"/home/mykha/.conda/envs/deep/lib/python3.6/site-packages/keras/backend/tensorflow_backend.py\", line 2636, in _call\n",
      "    fetched = self._callable_fn(*array_vals)\n",
      "  File \"/home/mykha/.conda/envs/deep/lib/python3.6/site-packages/tensorflow/python/client/session.py\", line 1382, in __call__\n",
      "    run_metadata_ptr)\n",
      "KeyboardInterrupt\n"
     ]
    }
   ],
   "source": [
    "!python keras-frcnn/test_frcnn.py -p test"
   ]
  },
  {
   "cell_type": "code",
   "execution_count": null,
   "metadata": {},
   "outputs": [],
   "source": []
  }
 ],
 "metadata": {
  "kernelspec": {
   "display_name": "Python 3",
   "language": "python",
   "name": "python3"
  },
  "language_info": {
   "codemirror_mode": {
    "name": "ipython",
    "version": 3
   },
   "file_extension": ".py",
   "mimetype": "text/x-python",
   "name": "python",
   "nbconvert_exporter": "python",
   "pygments_lexer": "ipython3",
   "version": "3.7.3"
  }
 },
 "nbformat": 4,
 "nbformat_minor": 2
}
